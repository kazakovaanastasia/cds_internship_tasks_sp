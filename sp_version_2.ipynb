{
  "cells": [
    {
      "cell_type": "markdown",
      "metadata": {
        "id": "TZO9D4wZC9-a"
      },
      "source": [
        "# Implement Spatial Pooler\n",
        "\n",
        "В данной тетради требуется реализовать Spatial Pooler по аналогии с [описанием](https://numenta.com/assets/pdf/spatial-pooling-algorithm/Spatial-Pooling-Algorithm-Details.pdf) и [статьёй](https://www.frontiersin.org/articles/10.3389/fncom.2017.00111/pdf) от нументы. Данная тетрадь сделана на основе [примера](https://github.com/htm-community/htm.core/blob/master/py/htm/examples/mnist.py) из нументовского фреймворка `htm.core`. Сам их фреймворк нам здесь не понадобится — его ставить не нужно, но можешь ради интереса к тестам ниже добавить и тест эталонной реализации Spatial Pooler.\n",
        "\n",
        "Для начала посмотри эпизоды 0-8 видео гайда [HTMSchool](https://www.youtube.com/watch?v=XMB0ri4qgwc&list=PL3yXMgtrZmDqhsFQzwUC9V8MeeVOQ7eZ9)."
      ]
    },
    {
      "cell_type": "markdown",
      "metadata": {
        "id": "4OB2qSB7C9-i"
      },
      "source": [
        "## 01. Getting ready\n",
        "\n",
        "Данная секция содержит:\n",
        "\n",
        "- импорт необходимых пакетов (убедись, что все они установлены)\n",
        "- загрузка датасета"
      ]
    },
    {
      "cell_type": "code",
      "execution_count": 4,
      "metadata": {
        "id": "Qaft38ZLC9-k"
      },
      "outputs": [],
      "source": [
        "import numpy as np\n",
        "import matplotlib.pyplot as plt\n",
        "import numpy as np\n",
        "from IPython.display import clear_output\n",
        "\n",
        "from sklearn.datasets import fetch_openml\n",
        "from sklearn.linear_model import LogisticRegression\n",
        "from scipy.sparse import csr_matrix\n",
        "%matplotlib inline\n",
        "\n",
        "seed = 1337"
      ]
    },
    {
      "cell_type": "markdown",
      "metadata": {
        "id": "uiogpxqfC9-m"
      },
      "source": [
        "### Load data\n",
        "\n",
        "Следующая ячейка загружает датасет MNIST (займет порядка 10-20 сек)."
      ]
    },
    {
      "cell_type": "code",
      "execution_count": 5,
      "metadata": {
        "colab": {
          "base_uri": "https://localhost:8080/"
        },
        "id": "B7SCTVRaC9-m",
        "outputId": "70c824d0-8c62-458c-cbdb-090543c23e28"
      },
      "outputs": [
        {
          "output_type": "stream",
          "name": "stdout",
          "text": [
            "(70000, 28, 28) (70000,)\n"
          ]
        },
        {
          "output_type": "execute_result",
          "data": {
            "text/plain": [
              "((60000, 28, 28), (60000,), (10000, 28, 28), (10000,))"
            ]
          },
          "metadata": {},
          "execution_count": 5
        }
      ],
      "source": [
        "def load_ds(rng, name, num_test, shape=None):\n",
        "    \"\"\"\n",
        "    fetch dataset from openML.org and split to train/test\n",
        "    @param name - ID on openML (eg. 'mnist_784')\n",
        "    @param num_test - num. samples to take as test\n",
        "    @param shape - new reshape of a single data point (ie data['data'][0]) as a list. Eg. [28,28] for MNIST\n",
        "    \"\"\"\n",
        "    data = fetch_openml(name, version=1, parser='auto')\n",
        "    sz=data['target'].shape[0]\n",
        "\n",
        "    X = np.array(data['data'])\n",
        "    if shape is not None:\n",
        "        new_shape = shape.insert(0, sz)\n",
        "        X = np.reshape(X, shape)\n",
        "\n",
        "    y = np.array(data['target']).astype(np.int32)\n",
        "    print(X.shape, y.shape)\n",
        "\n",
        "    indices = rng.permutation(y.size)\n",
        "    X = X[indices, :, :]\n",
        "    y = y[indices]\n",
        "\n",
        "    # split to train/test data\n",
        "    train_labels = y[:sz-num_test]\n",
        "    train_images = X[:sz-num_test]\n",
        "    test_labels  = y[sz-num_test:]\n",
        "    test_images  = X[sz-num_test:]\n",
        "\n",
        "    return train_labels, train_images, test_labels, test_images\n",
        "\n",
        "rng = np.random.default_rng(seed)\n",
        "train_labels, train_images, test_labels, test_images = load_ds(rng, 'mnist_784', 10000, shape=[28,28])\n",
        "\n",
        "n_train_samples = train_images.shape[0]\n",
        "n_test_samples = test_images.shape[0]\n",
        "image_shape = train_images[0].shape\n",
        "image_side = image_shape[0]\n",
        "image_size = image_side ** 2\n",
        "\n",
        "\n",
        "train_images.shape, train_labels.shape, test_images.shape, test_labels.shape"
      ]
    },
    {
      "cell_type": "markdown",
      "metadata": {
        "id": "Tb8BIIkWC9-o"
      },
      "source": [
        "Пример формата данных датасета"
      ]
    },
    {
      "cell_type": "code",
      "execution_count": 6,
      "metadata": {
        "colab": {
          "base_uri": "https://localhost:8080/",
          "height": 499
        },
        "id": "yMdYzexdC9-p",
        "outputId": "5c09198c-cf62-47cb-cb9d-f7895fb4d12d"
      },
      "outputs": [
        {
          "output_type": "stream",
          "name": "stdout",
          "text": [
            "Label: 5\n",
            "Image shape: (28, 28)\n",
            "Image middle row: [  0   0   0   0   0   0   0   0   0   0   0   0   0   0   0   0   0   0\n",
            " 145 253  53   0   0   0   0   0   0   0]\n"
          ]
        },
        {
          "output_type": "display_data",
          "data": {
            "text/plain": [
              "<Figure size 640x480 with 1 Axes>"
            ],
            "image/png": "[encoded data removed]"
          },
          "metadata": {}
        }
      ],
      "source": [
        "ind = 1\n",
        "plt.imshow(train_images[ind])\n",
        "print(f'Label: {train_labels[ind]}')\n",
        "print(f'Image shape: {image_shape}')\n",
        "print(f'Image middle row: {train_images[ind][image_side//2]}')"
      ]
    },
    {
      "cell_type": "markdown",
      "metadata": {
        "id": "CJ6fXmv-C9-r"
      },
      "source": [
        "Перекодируем датасет в бинарные изображения и дальше будем работать с бинарными данными."
      ]
    },
    {
      "cell_type": "code",
      "execution_count": 7,
      "metadata": {
        "colab": {
          "base_uri": "https://localhost:8080/",
          "height": 430
        },
        "id": "VQxUVkUqC9-s",
        "outputId": "e7ca5d52-990f-4ea9-8751-910b6e6deaf4"
      },
      "outputs": [
        {
          "output_type": "display_data",
          "data": {
            "text/plain": [
              "<Figure size 640x480 with 1 Axes>"
            ],
            "image/png": "[encoded data removed]"
          },
          "metadata": {}
        }
      ],
      "source": [
        "def plot_flatten_image(flatten_image, image_height=28):\n",
        "    plt.imshow(flatten_image.reshape((image_height, -1)))\n",
        "\n",
        "def to_binary_flatten_images(images):\n",
        "    n_samples = images.shape[0]\n",
        "    # flatten every image to vector\n",
        "    images = images.reshape((n_samples, -1))\n",
        "    # binary encoding: each image pixel is encoded either 0 or 1 depending on that image mean value\n",
        "    images = (images >= images.mean(axis=1, keepdims=True)).astype(np.int8)\n",
        "    return images\n",
        "\n",
        "\n",
        "train_images = to_binary_flatten_images(train_images)\n",
        "test_images = to_binary_flatten_images(test_images)\n",
        "plot_flatten_image(train_images[ind])"
      ]
    },
    {
      "cell_type": "markdown",
      "metadata": {
        "id": "3DsGKIezC9-t"
      },
      "source": [
        "## 02. Baseline: classifier on raw input\n",
        "\n",
        "В качестве бейзлайна возьмем стандартный sklearn'овский логрег классификатор"
      ]
    },
    {
      "cell_type": "code",
      "execution_count": 8,
      "metadata": {
        "id": "Ul_7cnS2C9-u"
      },
      "outputs": [],
      "source": [
        "LBFGS_MAX_ITER = 1_000"
      ]
    },
    {
      "cell_type": "code",
      "execution_count": 9,
      "metadata": {
        "colab": {
          "base_uri": "https://localhost:8080/"
        },
        "id": "W19ZCu_UC9-v",
        "outputId": "4c996f0c-6228-4be7-98bf-6cd58ccde596"
      },
      "outputs": [
        {
          "output_type": "stream",
          "name": "stdout",
          "text": [
            "Score: 87.4%\n",
            "CPU times: user 2.06 s, sys: 546 ms, total: 2.6 s\n",
            "Wall time: 2.02 s\n"
          ]
        }
      ],
      "source": [
        "%%time\n",
        "\n",
        "def test_bare_classification(x_tr,  y_tr, x_tst, y_tst):\n",
        "    linreg = LogisticRegression(tol=.05, max_iter=LBFGS_MAX_ITER, multi_class='multinomial', penalty='l2', solver='lbfgs', n_jobs=1)\n",
        "    linreg.fit(x_tr, y_tr)\n",
        "\n",
        "    score = linreg.predict(x_tst) == y_tst\n",
        "    score = score.mean()\n",
        "    print(f'Score: {100 * score:.1f}%')\n",
        "    return score\n",
        "\n",
        "np.random.seed(seed)\n",
        "# for debug purposes I chose smaller subset of the train/test set, you can set the whole set of 60k training samples\n",
        "n = 1_000\n",
        "x_tr, y_tr = train_images[:n], train_labels[:n]\n",
        "x_tst, y_tst = test_images[:n], test_labels[:n]\n",
        "\n",
        "# примерные/ориентировочные результаты\n",
        "# 1k: 87.4; 888ms\n",
        "# 60k: 91.4; 1.5min\n",
        "_ = test_bare_classification(x_tr, y_tr, x_tst, y_tst)"
      ]
    },
    {
      "cell_type": "markdown",
      "metadata": {
        "id": "cjfBrnZLC9-w"
      },
      "source": [
        "## 03. Spatial Pooler: skeleton\n",
        "\n",
        "Временно сделаем пустой класс Spatial Pooler'а заглушку, чтобы дальше ввести весь необходимый auxiliary код для обучения и тестирования."
      ]
    },
    {
      "cell_type": "code",
      "execution_count": 10,
      "metadata": {
        "colab": {
          "base_uri": "https://localhost:8080/"
        },
        "id": "vgWor-0qC9-w",
        "outputId": "61acb27e-5000-48e0-98aa-2cc5a6d42ad6"
      },
      "outputs": [
        {
          "output_type": "stream",
          "name": "stdout",
          "text": [
            "91 784\n"
          ]
        }
      ],
      "source": [
        "class NoOpSpatialPooler:\n",
        "    def __init__(self, input_size):\n",
        "        self.input_size = input_size\n",
        "        self.output_size = input_size\n",
        "\n",
        "    def compute(self, dense_sdr, learn):\n",
        "        # просто отдает вход на выход\n",
        "        return np.flatnonzero(dense_sdr)\n",
        "\n",
        "\n",
        "np.random.seed(seed)\n",
        "sp = NoOpSpatialPooler(train_images[0].size)\n",
        "sparse_sdr = sp.compute(train_images[0], True)\n",
        "\n",
        "print(sparse_sdr.size, sp.output_size)\n",
        "assert sparse_sdr.size < sp.output_size"
      ]
    },
    {
      "cell_type": "markdown",
      "metadata": {
        "id": "dUyhYI4nC9-x"
      },
      "source": [
        "## 04. Train/test SP performance aux pipeline\n",
        "\n",
        "Ниже непосредственно код для обучения и тестирования классификации с использованием Spatial Pooler'а. Общая схема следующая - мы обучаем SP на train set'е, а дальше SDR векторы на выходе из SP используем в кач-ве входных данных для логрег классификатора в надежде, что эти данные разделимы еще лучше, то есть что качество классификации улучшится.\n",
        "\n",
        "__NB__: Не удивляйся, в реализации ниже обучение идет в немного полуонлайн режиме - делается небольшой претрейн, а потом полностью онлайн. Претрейн делаем для прогрева SP, тк на ранних стадиях обучения он слишком сильно меняет выходную кодировку."
      ]
    },
    {
      "cell_type": "code",
      "execution_count": 11,
      "metadata": {
        "colab": {
          "base_uri": "https://localhost:8080/"
        },
        "id": "lTzXwIjjC9-x",
        "outputId": "b8b2a507-e80a-42fe-9dd4-c7a3fcc3ef14"
      },
      "outputs": [
        {
          "output_type": "stream",
          "name": "stdout",
          "text": [
            "Score: 87.4% for n = 1000\n",
            "CPU times: user 137 ms, sys: 82 ms, total: 219 ms\n",
            "Wall time: 2.19 s\n"
          ]
        },
        {
          "output_type": "execute_result",
          "data": {
            "text/plain": [
              "0.874"
            ]
          },
          "metadata": {},
          "execution_count": 11
        }
      ],
      "source": [
        "%%time\n",
        "\n",
        "def pretrain_sp(sp, images, n_samples):\n",
        "\n",
        "    for img in images[:n_samples]:\n",
        "        sp.compute(img, True)\n",
        "\n",
        "def encode_to_csr_with_sp(images, sp, learn):\n",
        "    flatten_encoded_sdrs = []\n",
        "    indptr = [0]\n",
        "    for img in images:\n",
        "        encoded_sparse_sdr = sp.compute(img, learn)\n",
        "        flatten_encoded_sdrs.extend(encoded_sparse_sdr)\n",
        "        indptr.append(len(flatten_encoded_sdrs))\n",
        "\n",
        "    data = np.ones(len(flatten_encoded_sdrs))\n",
        "    csr = csr_matrix((data, flatten_encoded_sdrs, indptr), shape=(images.shape[0], sp.output_size))\n",
        "    return csr\n",
        "\n",
        "def test_classification_with_sp(x_tr,  y_tr, x_tst, y_tst, sp):\n",
        "    # a small pretrain SP before real work\n",
        "    pretrain_sp(sp, x_tr, n_samples=1000)\n",
        "\n",
        "    # encode images and continuously train SP\n",
        "    csr = encode_to_csr_with_sp(x_tr, sp, learn=True)\n",
        "\n",
        "    # train linreg\n",
        "    linreg = LogisticRegression(tol=.05, max_iter=LBFGS_MAX_ITER, multi_class='multinomial', penalty='l2', solver='lbfgs', n_jobs=3)\n",
        "    linreg.fit(csr, y_tr)\n",
        "\n",
        "    # encode test images (without SP learning) and then test score\n",
        "    csr = encode_to_csr_with_sp(x_tst, sp, False)\n",
        "    score = linreg.predict(csr) == y_tst\n",
        "    score = score.mean()\n",
        "    print(f'Score: {100 * score:.1f}% for n = {len(x_tr)}')\n",
        "    return score\n",
        "\n",
        "n = 1000\n",
        "x_tr, y_tr = train_images[:n], train_labels[:n]\n",
        "x_tst, y_tst = test_images[:n], test_labels[:n]\n",
        "my_sp = NoOpSpatialPooler(train_images[0].size)\n",
        "\n",
        "# 87.3; 1.16s\n",
        "test_classification_with_sp(x_tr, y_tr, x_tst, y_tst, my_sp)"
      ]
    },
    {
      "cell_type": "markdown",
      "metadata": {
        "id": "e3kRVLroC9-y"
      },
      "source": [
        "## 05. Spatial Pooler: learning\n",
        "\n",
        "__Здесь начинается практическое задание__\n",
        "\n",
        "В этой части требуется реализовать простую версию SP с обучением как описано в видео htm scool до бустинга (т.е. бустинг пока не нужен)."
      ]
    },
    {
      "cell_type": "code",
      "source": [
        "import time"
      ],
      "metadata": {
        "id": "aNG14PFpYK-v"
      },
      "execution_count": 12,
      "outputs": []
    },
    {
      "cell_type": "code",
      "execution_count": 54,
      "metadata": {
        "colab": {
          "base_uri": "https://localhost:8080/"
        },
        "id": "TIOGC_RxC9-y",
        "outputId": "d337136c-93b7-4fc9-83a4-b9388cd71b34"
      },
      "outputs": [
        {
          "output_type": "stream",
          "name": "stdout",
          "text": [
            "4 100 4\n"
          ]
        },
        {
          "output_type": "execute_result",
          "data": {
            "text/plain": [
              "array([ 3, 28, 64, 87])"
            ]
          },
          "metadata": {},
          "execution_count": 54
        }
      ],
      "source": [
        "class LearnableSpatialPooler:\n",
        "    def __init__(\n",
        "        self, input_size, output_size, permanence_threshold, output_sparsity, synapse_permanence_deltas, receptive_field_sparsity\n",
        "    ):\n",
        "        '''\n",
        "        params:\n",
        "            `input_size` - the size of the input SDR\n",
        "            `output_size` - the size of the output SDR\n",
        "            `permanence_threshold` - value in [0, 1], defines whether or not a connection is active\n",
        "            `output_sparsity` - value in [0, 1], defines desired output SDR sparsity, e.g. 0.02 is 2% sparsity\n",
        "            `synapse_permanence_deltas` - tuple of (p+, p-), defines permanence increment/decrement for learning\n",
        "            `receptive_field_sparsity` - value in [0, 1], defines the fraction of _potential_ synapses\n",
        "        '''\n",
        "        self.input_size = input_size\n",
        "        self.output_size = output_size\n",
        "\n",
        "        self.permanence_threshold = permanence_threshold\n",
        "        self.output_sparsity = output_sparsity\n",
        "        self.synapse_permanence_deltas = synapse_permanence_deltas\n",
        "        self.receptive_field_sparsity = receptive_field_sparsity\n",
        "\n",
        "        # 1 шаг : инициализация параметров SP\n",
        "        self.n_active_bits =  int( output_sparsity *   output_size)\n",
        "        self.num_synapse = int(self.receptive_field_sparsity* self.input_size)\n",
        "        self.potential_synapse = np.zeros((self.output_size, self.num_synapse))\n",
        "        self.permanence_value  = np.zeros((self.output_size, self.num_synapse))\n",
        "        self.active_count = np.zeros(output_size)\n",
        "\n",
        "        for c in range(0, self.output_size):\n",
        "          self.potential_synapse[c] = np.random.choice(self.input_size, self.num_synapse, replace=False).astype(int)\n",
        "          self.permanence_value[c] = np.random.uniform(0,1,self.num_synapse)\n",
        "        self.potential_synapse = self.potential_synapse.astype(int)\n",
        "\n",
        "    def get_active_count(self):\n",
        "      return self.active_count\n",
        "\n",
        "    def compute(self, dense_sdr, learn):\n",
        "        '''\n",
        "        params:\n",
        "            `dense_sdr` - input SDR in dense for, i.e. as np.array\n",
        "            `learn` - bool flag, whether or not to do a learning step\n",
        "\n",
        "        returns:\n",
        "            a list of activated columns indices\n",
        "        '''\n",
        "\n",
        "\n",
        "\n",
        "        # 2 шаг: подсчёт перекрытия для данной картинки дял каждой колонки\n",
        "\n",
        "\n",
        "        overlap = np.zeros(self.output_size )\n",
        "\n",
        "        overlap = np.sum((self.permanence_value> self. permanence_threshold)* dense_sdr[self.potential_synapse], axis=1)\n",
        "\n",
        "        '''\n",
        "        for c in range(0, self.output_size):\n",
        "          overlap[c] = 0\n",
        "          for s in range(0, self.num_synapse):\n",
        "            if self.permanence_value[c][s] > self. permanence_threshold:\n",
        "              f=int(self.potential_synapse[c][s])\n",
        "              overlap[c] += 1 * dense_sdr[f]\n",
        "        '''\n",
        "\n",
        "        # 3 шаг: подсчёт самых активных колонок - победителей\n",
        "        min_activity = np.sort(overlap)[::-1][int(self.output_sparsity*self.output_size)]\n",
        "        active_col = []\n",
        "        for c in range(0, self.output_size):\n",
        "          if overlap[c] >  min_activity:\n",
        "            active_col.append(c)\n",
        "            self.active_count[c] +=1\n",
        "\n",
        "        # 4 шаг: обновление параметров синапсов и внутренних переменных\n",
        "        if learn:\n",
        "\n",
        "          for c in active_col:\n",
        "            for s in range(0, self.num_synapse):\n",
        "              if self.permanence_value[c][s] > self. permanence_threshold:\n",
        "                self.permanence_value[c][s] += self.synapse_permanence_deltas[0]\n",
        "                self.permanence_value[c][s]  = min( self.permanence_value[c][s] , 1)\n",
        "              else:\n",
        "                self.permanence_value[c][s] -= self.synapse_permanence_deltas[1]\n",
        "                self.permanence_value[c][s]  = max( self.permanence_value[c][s] , 0)\n",
        "\n",
        "        return np.array(active_col)\n",
        "\n",
        "\n",
        "np.random.seed(seed)\n",
        "sp = LearnableSpatialPooler(\n",
        "    input_size=train_images[0].size,\n",
        "    output_size=10**2,\n",
        "    permanence_threshold=.5,\n",
        "    output_sparsity=.04,\n",
        "    synapse_permanence_deltas=(.1, .03),\n",
        "    receptive_field_sparsity=.8\n",
        ")\n",
        "sparse_sdr = sp.compute(train_images[0], True)\n",
        "\n",
        "print(sparse_sdr.size, sp.output_size, sp.n_active_bits)\n",
        "assert sparse_sdr.size == sp.n_active_bits\n",
        "sparse_sdr"
      ]
    },
    {
      "cell_type": "markdown",
      "metadata": {
        "id": "9IuJcDUHC9-0"
      },
      "source": [
        "### 05.1. Naive SP performance\n",
        "\n",
        "Проверь качество работы своей реализации. В комментариях примерные значения для разных `n`, на которые можно попробовать ориентироваться:"
      ]
    },
    {
      "cell_type": "code",
      "execution_count": 55,
      "metadata": {
        "id": "CJ_Yke8JC9-0",
        "colab": {
          "base_uri": "https://localhost:8080/"
        },
        "outputId": "4511a9bd-d9fe-42f6-9555-9c8fb0ba48dd"
      },
      "outputs": [
        {
          "output_type": "stream",
          "name": "stdout",
          "text": [
            "Score: 30.0% for n = 10\n",
            "CPU times: user 833 ms, sys: 2.62 ms, total: 836 ms\n",
            "Wall time: 1.33 s\n"
          ]
        },
        {
          "output_type": "execute_result",
          "data": {
            "text/plain": [
              "0.3"
            ]
          },
          "metadata": {},
          "execution_count": 55
        }
      ],
      "source": [
        "%%time\n",
        "\n",
        "np.random.seed(seed)\n",
        "n = 10\n",
        "x_tr, y_tr = train_images[:n], train_labels[:n]\n",
        "x_tst, y_tst = test_images[:n], test_labels[:n]\n",
        "\n",
        "sp = LearnableSpatialPooler(\n",
        "    input_size=train_images[0].size,\n",
        "    output_size=30**2,\n",
        "    permanence_threshold=.5,\n",
        "    output_sparsity=.04,\n",
        "    synapse_permanence_deltas=(.1, .03),\n",
        "    receptive_field_sparsity=.8\n",
        ")\n",
        "# 1k: 80.2; 2.98s\n",
        "# 60k: 89.3; 72 s\n",
        "test_classification_with_sp(x_tr, y_tr, x_tst, y_tst, sp)"
      ]
    },
    {
      "cell_type": "code",
      "source": [
        "    input_size=train_images[0].size,\n"
      ],
      "metadata": {
        "colab": {
          "base_uri": "https://localhost:8080/",
          "height": 175
        },
        "id": "fIu7x_GAWxHz",
        "outputId": "57595ea6-7560-45ea-b9ee-dbfa8805640f"
      },
      "execution_count": 1,
      "outputs": [
        {
          "output_type": "error",
          "ename": "NameError",
          "evalue": "name 'train_images' is not defined",
          "traceback": [
            "\u001b[0;31m---------------------------------------------------------------------------\u001b[0m",
            "\u001b[0;31mNameError\u001b[0m                                 Traceback (most recent call last)",
            "\u001b[0;32m<ipython-input-1-4da687ea1854>\u001b[0m in \u001b[0;36m<cell line: 1>\u001b[0;34m()\u001b[0m\n\u001b[0;32m----> 1\u001b[0;31m \u001b[0minput_size\u001b[0m\u001b[0;34m=\u001b[0m\u001b[0mtrain_images\u001b[0m\u001b[0;34m[\u001b[0m\u001b[0;36m0\u001b[0m\u001b[0;34m]\u001b[0m\u001b[0;34m.\u001b[0m\u001b[0msize\u001b[0m\u001b[0;34m,\u001b[0m\u001b[0;34m\u001b[0m\u001b[0;34m\u001b[0m\u001b[0m\n\u001b[0m",
            "\u001b[0;31mNameError\u001b[0m: name 'train_images' is not defined"
          ]
        }
      ]
    },
    {
      "cell_type": "markdown",
      "source": [
        "Score: 30.0% for n = 10\n",
        "\n",
        "CPU times: user 32.2 s, sys: 130 ms, total: 32.3 s\n",
        "\n",
        "Wall time: 33.5 s\n",
        "\n",
        "0.3"
      ],
      "metadata": {
        "id": "Sn98p7GSza7J"
      }
    },
    {
      "cell_type": "code",
      "source": [
        "%%time\n",
        "\n",
        "np.random.seed(seed)\n",
        "n = 100\n",
        "x_tr, y_tr = train_images[:n], train_labels[:n]\n",
        "x_tst, y_tst = test_images[:n], test_labels[:n]\n",
        "\n",
        "sp = LearnableSpatialPooler(\n",
        "    input_size=train_images[0].size,\n",
        "    output_size=30**2,\n",
        "    permanence_threshold=.5,\n",
        "    output_sparsity=.04,\n",
        "    synapse_permanence_deltas=(.1, .03),\n",
        "    receptive_field_sparsity=.8\n",
        ")\n",
        "# 1k: 80.2; 2.98s\n",
        "# 60k: 89.3; 72 s\n",
        "test_classification_with_sp(x_tr, y_tr, x_tst, y_tst, sp)"
      ],
      "metadata": {
        "id": "nsTdlCzCQlwz",
        "colab": {
          "base_uri": "https://localhost:8080/"
        },
        "outputId": "4acccd0a-99b2-4b17-d011-050a3419bc89"
      },
      "execution_count": 56,
      "outputs": [
        {
          "output_type": "stream",
          "name": "stdout",
          "text": [
            "Score: 61.0% for n = 100\n",
            "CPU times: user 7.25 s, sys: 18.5 ms, total: 7.27 s\n",
            "Wall time: 7.38 s\n"
          ]
        },
        {
          "output_type": "execute_result",
          "data": {
            "text/plain": [
              "0.61"
            ]
          },
          "metadata": {},
          "execution_count": 56
        }
      ]
    },
    {
      "cell_type": "markdown",
      "source": [
        "Score: 61.0% for n = 100\n",
        "\n",
        "CPU times: user 5min 17s, sys: 718 ms, total: 5min 18s\n",
        "\n",
        "Wall time: 5min 21s\n",
        "\n",
        "0.61"
      ],
      "metadata": {
        "id": "20u1z7-Lzi2r"
      }
    },
    {
      "cell_type": "code",
      "source": [
        "%%time\n",
        "\n",
        "np.random.seed(seed)\n",
        "n = 1000\n",
        "x_tr, y_tr = train_images[:n], train_labels[:n]\n",
        "x_tst, y_tst = test_images[:n], test_labels[:n]\n",
        "\n",
        "sp = LearnableSpatialPooler(\n",
        "    input_size=train_images[0].size,\n",
        "    output_size=30**2,\n",
        "    permanence_threshold=.5,\n",
        "    output_sparsity=.04,\n",
        "    synapse_permanence_deltas=(.1, .03),\n",
        "    receptive_field_sparsity=.8\n",
        ")\n",
        "# 1k: 80.2; 2.98s\n",
        "# 60k: 89.3; 72 s\n",
        "test_classification_with_sp(x_tr, y_tr, x_tst, y_tst, sp)"
      ],
      "metadata": {
        "colab": {
          "base_uri": "https://localhost:8080/"
        },
        "id": "lFq54lboRGJL",
        "outputId": "0557e166-9f3e-4ad0-ca7f-835af0cb15a6"
      },
      "execution_count": 57,
      "outputs": [
        {
          "output_type": "stream",
          "name": "stdout",
          "text": [
            "Score: 77.1% for n = 1000\n",
            "CPU times: user 1min 13s, sys: 133 ms, total: 1min 14s\n",
            "Wall time: 1min 14s\n"
          ]
        },
        {
          "output_type": "execute_result",
          "data": {
            "text/plain": [
              "0.771"
            ]
          },
          "metadata": {},
          "execution_count": 57
        }
      ]
    },
    {
      "cell_type": "markdown",
      "metadata": {
        "id": "Zu2pIv-zC9-1"
      },
      "source": [
        "Интересная метрика оценки качества работы SP и вырожденности датасета - энтропия выходных активаций.\n",
        "\n",
        "Добавь либо в реализацию класса, либо где-то сбоку возможность учета статистики активаций выходных клеток (ты наверняка заметил, что обычно их контринтуитивно называют столбцами, что оч круто запутывает) и функцию подсчета энтропии на основе этой статистики. Собери такую статистику на одном прогоне на всем датасете и:\n",
        "\n",
        "- нарисуй гистограмму частоты активаций (с нормализацией, чтобы по оси Y были вероятности активации, а не их число)\n",
        "- посчитай энтропию $H = -\\sum p \\cdot \\log p$"
      ]
    },
    {
      "cell_type": "code",
      "execution_count": null,
      "metadata": {
        "id": "CXPcqEFwC9-1"
      },
      "outputs": [],
      "source": [
        "# TODO: prob hist & entropy"
      ]
    },
    {
      "cell_type": "markdown",
      "metadata": {
        "id": "4ERkQz8BC9-2"
      },
      "source": [
        "Теперь давай посмотрим, как выходной размер `output_size` влияет на качество работы. Протестируй разные значения `output_size` - например, $[10^2, 15^2,..., 55^2, 60^2]$ и отрисуй график зависимости [качества классификации, но можешь и времени работы тоже].\n",
        "\n",
        "_Можно для начала прикинуть для n=1000 и двигаться дальше, а позже пересчитать на всем датасете_"
      ]
    },
    {
      "cell_type": "code",
      "execution_count": null,
      "metadata": {
        "id": "NzXdj0geC9-2"
      },
      "outputs": [],
      "source": [
        "# TODO: test and plot results"
      ]
    },
    {
      "cell_type": "markdown",
      "metadata": {
        "id": "-CkvSrIZC9-2"
      },
      "source": [
        "## 06. Spatial Pooler: boosting\n",
        "\n",
        "В этом пункте требуется реализовать бустинг. Обрати внимание, в видео htm school речь ведется о бустинге overlap score на основе активности выходных ячеек -  именно такой вид бустинга и нужно реализовать. Еще есть бустинг значений permanence синапсов выходных ячеек, имеющих слишком низкое среднее значение overlap score за последние N итераций - рассмотрение этого вида бустинга оставим в стороне. Так что дальше под бустингом будет иметься в виду только первый вариант.\n",
        "\n",
        "Зададим параметр `max_boost_factor` $\\in [0, +\\infty)$. Можно по-разному задавать интерпретацию этого параметра, то есть как будет действовать бустинг. Например, можно дать возможность бустингу работать только в сторону усиления слабых — тогда параметр `max_boost_factor` $=K$ определяет, что значения overlap score под действием бустинга могут быть увеличены максимум в $1+K$ раз. То есть `max_boost_factor`$=1$ означает, что оверлапы могут быть увеличены максимум в два раза, а 0 — что бустинг отключен.\n",
        "\n",
        "Однако допустима и реализация, в которой бустинг работает в обе стороны — слабые колонки усиливает, а сильные наоборот ослабляет, и тогда пределы изменения для величины `max_boost_factor` $=K$: $[\\frac{1}{K}, K]$, то есть бустинг может и усилить, и ослабить максимум в $K$ раз. В своей реализации выбери любой из этих вариантов."
      ]
    },
    {
      "cell_type": "code",
      "source": [
        "import bisect\n"
      ],
      "metadata": {
        "id": "65t8sD9KtKH5"
      },
      "execution_count": null,
      "outputs": []
    },
    {
      "cell_type": "code",
      "source": [
        "a = np.array([1,2,3,4,5])\n",
        "b = np.array(list(a)*3).reshape((3,5)).T\n",
        "print((1,2).T)"
      ],
      "metadata": {
        "colab": {
          "base_uri": "https://localhost:8080/",
          "height": 210
        },
        "id": "c1lrsoMThnTA",
        "outputId": "add0c61a-4370-47b6-8acd-8efe77a0ebca"
      },
      "execution_count": 77,
      "outputs": [
        {
          "output_type": "error",
          "ename": "AttributeError",
          "evalue": "'tuple' object has no attribute 'T'",
          "traceback": [
            "\u001b[0;31m---------------------------------------------------------------------------\u001b[0m",
            "\u001b[0;31mAttributeError\u001b[0m                            Traceback (most recent call last)",
            "\u001b[0;32m<ipython-input-77-a8b9ff33f8a8>\u001b[0m in \u001b[0;36m<cell line: 3>\u001b[0;34m()\u001b[0m\n\u001b[1;32m      1\u001b[0m \u001b[0ma\u001b[0m \u001b[0;34m=\u001b[0m \u001b[0mnp\u001b[0m\u001b[0;34m.\u001b[0m\u001b[0marray\u001b[0m\u001b[0;34m(\u001b[0m\u001b[0;34m[\u001b[0m\u001b[0;36m1\u001b[0m\u001b[0;34m,\u001b[0m\u001b[0;36m2\u001b[0m\u001b[0;34m,\u001b[0m\u001b[0;36m3\u001b[0m\u001b[0;34m,\u001b[0m\u001b[0;36m4\u001b[0m\u001b[0;34m,\u001b[0m\u001b[0;36m5\u001b[0m\u001b[0;34m]\u001b[0m\u001b[0;34m)\u001b[0m\u001b[0;34m\u001b[0m\u001b[0;34m\u001b[0m\u001b[0m\n\u001b[1;32m      2\u001b[0m \u001b[0mb\u001b[0m \u001b[0;34m=\u001b[0m \u001b[0mnp\u001b[0m\u001b[0;34m.\u001b[0m\u001b[0marray\u001b[0m\u001b[0;34m(\u001b[0m\u001b[0mlist\u001b[0m\u001b[0;34m(\u001b[0m\u001b[0ma\u001b[0m\u001b[0;34m)\u001b[0m\u001b[0;34m*\u001b[0m\u001b[0;36m3\u001b[0m\u001b[0;34m)\u001b[0m\u001b[0;34m.\u001b[0m\u001b[0mreshape\u001b[0m\u001b[0;34m(\u001b[0m\u001b[0;34m(\u001b[0m\u001b[0;36m3\u001b[0m\u001b[0;34m,\u001b[0m\u001b[0;36m5\u001b[0m\u001b[0;34m)\u001b[0m\u001b[0;34m)\u001b[0m\u001b[0;34m.\u001b[0m\u001b[0mT\u001b[0m\u001b[0;34m\u001b[0m\u001b[0;34m\u001b[0m\u001b[0m\n\u001b[0;32m----> 3\u001b[0;31m \u001b[0mprint\u001b[0m\u001b[0;34m(\u001b[0m\u001b[0;34m(\u001b[0m\u001b[0;36m1\u001b[0m\u001b[0;34m,\u001b[0m\u001b[0;36m2\u001b[0m\u001b[0;34m)\u001b[0m\u001b[0;34m.\u001b[0m\u001b[0mT\u001b[0m\u001b[0;34m)\u001b[0m\u001b[0;34m\u001b[0m\u001b[0;34m\u001b[0m\u001b[0m\n\u001b[0m",
            "\u001b[0;31mAttributeError\u001b[0m: 'tuple' object has no attribute 'T'"
          ]
        }
      ]
    },
    {
      "cell_type": "code",
      "execution_count": 84,
      "metadata": {
        "colab": {
          "base_uri": "https://localhost:8080/"
        },
        "id": "VwhqvpxmC9-3",
        "outputId": "1140a852-d22e-4b1e-d913-6d9e84fb61a0"
      },
      "outputs": [
        {
          "output_type": "execute_result",
          "data": {
            "text/plain": [
              "array([ 3, 28, 64, 87])"
            ]
          },
          "metadata": {},
          "execution_count": 84
        }
      ],
      "source": [
        "class BoostedSpatialPooler:\n",
        "    def __init__(\n",
        "        self, input_size, output_size, permanence_threshold, output_sparsity, synapse_permanence_deltas, receptive_field_sparsity,\n",
        "        max_boost_factor, boost_sliding_window\n",
        "    ):\n",
        "        '''\n",
        "        params:\n",
        "            `input_size` - the size of the input SDR\n",
        "            `output_size` - the size of the output SDR\n",
        "            `permanence_threshold` - value in [0, 1], defines whether or not a connection is active\n",
        "            `output_sparsity` - value in [0, 1], defines desired output SDR sparsity, e.g. 0.02 is 2% sparsity\n",
        "            `synapse_permanence_deltas` - tuple of (p+, p-), defines permanence increment/decrement for learning\n",
        "            `receptive_field_sparsity` - value in [0, 1], defines the fraction of _potential_ synapses\n",
        "            `max_boost_factor` - value in [0, +inf), defines maximum allowed boosting. Boosting value X > 0 (X < 0) means that overlap is multiplied (divided) by `1 + X`.\n",
        "            `boost_sliding_window` - value in [1, +inf), defines the size of the window for moving avg output column activity\n",
        "        '''\n",
        "        self.input_size = input_size\n",
        "        self.output_size = output_size\n",
        "        self.permanence_threshold = permanence_threshold\n",
        "        self.output_sparsity = output_sparsity\n",
        "        self.synapse_permanence_deltas = synapse_permanence_deltas\n",
        "        self.receptive_field_sparsity = receptive_field_sparsity\n",
        "        self. boost_sliding_window  = boost_sliding_window\n",
        "        self.max_boost_factor = max_boost_factor\n",
        "\n",
        "        # 1 шаг : инициализация параметров SP\n",
        "\n",
        "        self.n_active_bits =  int( output_sparsity *   output_size)\n",
        "        self.num_synapse = int(self.receptive_field_sparsity* self.input_size)\n",
        "        self.potential_synapse = np.zeros((self.output_size, self.num_synapse))\n",
        "        self.permanence_value  = np.zeros((self.output_size, self.num_synapse))\n",
        "        self.active_count = np.ones(output_size)\n",
        "        self.active_count_mean = np.ones(output_size)\n",
        "        self.boost = np.ones(output_size)\n",
        "        self.summa = np.ones(output_size)\n",
        "        self.q = []\n",
        "        for i in range(0, output_size):\n",
        "          self.q.append([])\n",
        "\n",
        "        for c in range(0, self.output_size):\n",
        "          self.potential_synapse[c] = np.random.choice(self.input_size, self.num_synapse, replace=False)\n",
        "          self.permanence_value[c] = np.random.uniform(0,1,self.num_synapse)\n",
        "        self.potential_synapse = self.potential_synapse.astype(int)\n",
        "\n",
        "    def get_active_count(self):\n",
        "      return self.active_count - 1\n",
        "\n",
        "    def compute(self, dense_sdr, learn):\n",
        "        '''\n",
        "        params:\n",
        "            `dense_sdr` - input SDR in dense for, i.e. as np.array\n",
        "            `learn` - bool flag, whether or not to do a learning step\n",
        "\n",
        "        returns:\n",
        "            a list of activated columns indices\n",
        "        '''\n",
        "\n",
        "        # 2 шаг: подсчёт перекрытия для данной картинки дял каждой колонки\n",
        "        overlap = np.zeros(self.output_size )\n",
        "        boost_list = np.array(list(self.boost) * self.permanence_value.shape[1]).reshape((self.permanence_value.shape[1], self.permanence_value.shape[0])).T\n",
        "        #print(boost_list)\n",
        "        #print(np.all(a == a[0]))\n",
        "        overlap = np.sum((self.permanence_value> self. permanence_threshold)* dense_sdr[self.potential_synapse]*boost_list, axis=1)\n",
        "\n",
        "        # 3 шаг: подсчёт самых активных колонок - победителей\n",
        "        min_activity = np.sort(overlap)[::-1][int(self.output_sparsity*self.output_size)]\n",
        "        active_col = []\n",
        "        for c in range(0, self.output_size):\n",
        "          if overlap[c] >  min_activity:\n",
        "            self.summa[c] += 1\n",
        "            active_col.append(c)\n",
        "            self.active_count[c] +=1\n",
        "            if len( self.q[c] ) < self.boost_sliding_window:\n",
        "              self.q[c].append(1)\n",
        "            else:\n",
        "              self.summa[c]  -= self.q[c].pop()\n",
        "              self.q[c].append(1)\n",
        "\n",
        "          else:\n",
        "            self.summa[c] += 0\n",
        "\n",
        "            if len(self.q[c]) < self.boost_sliding_window:\n",
        "              self.q[c].append(0)\n",
        "            else:\n",
        "              self.summa[c] -= self.q[c].pop()\n",
        "              self.q[c].append(0)\n",
        "\n",
        "        # 4 шаг: обновление параметров синапсов и внутренних переменных\n",
        "        if learn:\n",
        "          for c in active_col:\n",
        "            for s in range(0, self.num_synapse):\n",
        "              if self.permanence_value[c][s] > self. permanence_threshold:\n",
        "                self.permanence_value[c][s] += self.synapse_permanence_deltas[0]\n",
        "                self.permanence_value[c][s]  = min( self.permanence_value[c][s] , 1)\n",
        "              else:\n",
        "                self.permanence_value[c][s] -= self.synapse_permanence_deltas[1]\n",
        "                self.permanence_value[c][s]  = max( self.permanence_value[c][s] , 0)\n",
        "\n",
        "\n",
        "          if np.max(self.summa) == np.min(self.summa):\n",
        "            coef = 0\n",
        "          else:\n",
        "            coef = self.max_boost_factor * np.min(self.summa) / ((np.max(self.summa) - np.min(self.summa))*(1+self.max_boost_factor) )\n",
        "\n",
        "          for c in range(0, self.output_size):\n",
        "            #с этой функцией бустинга не получилось.\n",
        "            #self.boost[c]= (self.max_boost_factor +1) * (1 - coef * (self.summa[c] - np.min(self.summa)) / (np.min(self.summa)))\n",
        "            self.boost[c] = np.exp((self.summa[c]-self.summa.mean())/(self.boost_sliding_window)*(-1))\n",
        "        return np.array(active_col)\n",
        "\n",
        "\n",
        "np.random.seed(seed)\n",
        "my_sp = BoostedSpatialPooler(\n",
        "    train_images[0].size, output_size=10**2, permanence_threshold=.5, output_sparsity=.04, synapse_permanence_deltas=(.1, .02),\n",
        "    receptive_field_sparsity=.8, max_boost_factor=0.5, boost_sliding_window=1000\n",
        ")\n",
        "my_sp.compute(train_images[0], True)"
      ]
    },
    {
      "cell_type": "markdown",
      "metadata": {
        "id": "basmPXodC9-3"
      },
      "source": [
        "### 06.1. SP with boosting performance\n",
        "\n",
        "_Дальше все как и в пункте 05.1_\n",
        "\n",
        "Проверь качество работы своей реализации. В комментариях по-прежнему примерные значения для разных `n`, на которые можно попробовать ориентироваться:"
      ]
    },
    {
      "cell_type": "code",
      "source": [
        "%%time\n",
        "\n",
        "np.random.seed(seed)\n",
        "n = 1000\n",
        "x_tr, y_tr = train_images[:n], train_labels[:n]\n",
        "x_tst, y_tst = test_images[:n], test_labels[:n]\n",
        "\n",
        "sp = BoostedSpatialPooler(\n",
        "    input_size=train_images[0].size,\n",
        "    output_size=30**2,\n",
        "    permanence_threshold=.5,\n",
        "    output_sparsity=.04,\n",
        "    synapse_permanence_deltas=(.1, .03),\n",
        "    receptive_field_sparsity=.8,\n",
        "    max_boost_factor=2,\n",
        "    boost_sliding_window=1000\n",
        ")\n",
        "# 1k: 84.0; 3.24 s\n",
        "# 60k: 91.15; 86 s\n",
        "test_classification_with_sp(x_tr, y_tr, x_tst, y_tst, sp)"
      ],
      "metadata": {
        "colab": {
          "base_uri": "https://localhost:8080/"
        },
        "id": "RdFz3k9BTUTu",
        "outputId": "20253821-8c2f-4e79-a448-b8dd1c7b3d7e"
      },
      "execution_count": 85,
      "outputs": [
        {
          "output_type": "stream",
          "name": "stdout",
          "text": [
            "Score: 83.9% for n = 1000\n",
            "CPU times: user 4min 7s, sys: 1.38 s, total: 4min 8s\n",
            "Wall time: 4min 11s\n"
          ]
        },
        {
          "output_type": "execute_result",
          "data": {
            "text/plain": [
              "0.839"
            ]
          },
          "metadata": {},
          "execution_count": 85
        }
      ]
    },
    {
      "cell_type": "markdown",
      "metadata": {
        "id": "CEcCH_UPC9-4"
      },
      "source": [
        "- нарисуй гистограмму вероятностей активаций\n",
        "- посчитай энтропию $H = -\\sum p \\cdot \\log p$\n",
        "- сравни с результатами без бустинга - есть какие-то очевидные выводы?"
      ]
    },
    {
      "cell_type": "code",
      "execution_count": null,
      "metadata": {
        "id": "3qD0Et2fC9-4"
      },
      "outputs": [],
      "source": [
        "# TODO: prob hist & entropy & comparison"
      ]
    },
    {
      "cell_type": "markdown",
      "metadata": {
        "id": "ln7W1fExC9-4"
      },
      "source": [
        "Протестируй разные значения `output_size` - например, $[10^2, 15^2,..., 55^2, 60^2]$ и отрисуй график зависимости [качества классификации, но можешь и времени работы тоже].\n",
        "\n",
        "Сравни с результатами без бустинга"
      ]
    },
    {
      "cell_type": "code",
      "execution_count": null,
      "metadata": {
        "id": "6YUdAyPvC9-4"
      },
      "outputs": [],
      "source": [
        "# TODO: test and plot results & comparison"
      ]
    },
    {
      "cell_type": "markdown",
      "metadata": {
        "id": "yn8XdYvGC9-4"
      },
      "source": [
        "___\n",
        "__[Опционально]__ можешь ради интереса поиграться с таким параметром как `receptive_field_sparsity`. Возьми в качестве выходного размера `output_size` = $50^2$ и проверь результаты на разных значениях параметра $[0.4, 0.5, ..., 1.0]$ и построй график зависимости."
      ]
    },
    {
      "cell_type": "code",
      "execution_count": null,
      "metadata": {
        "id": "q7--U2YrC9-5"
      },
      "outputs": [],
      "source": [
        "# TODO: test receptive_field_sparsity"
      ]
    },
    {
      "cell_type": "markdown",
      "metadata": {
        "id": "v_dm1l7CC9-5"
      },
      "source": [
        "## 07. TESTING\n",
        "\n",
        "Дальше просто сравнительное тестирование получившихся результатов."
      ]
    },
    {
      "cell_type": "code",
      "execution_count": null,
      "metadata": {
        "id": "8S9Go5mwC9-5"
      },
      "outputs": [],
      "source": [
        "n = 1000\n",
        "x_tr, y_tr = train_images[:n], train_labels[:n]\n",
        "x_tst, y_tst = test_images[:n], test_labels[:n]"
      ]
    },
    {
      "cell_type": "code",
      "execution_count": null,
      "metadata": {
        "id": "GWPjs27uC9-5",
        "outputId": "ede3aa4f-34b0-4570-b742-0d2b1026c302",
        "colab": {
          "base_uri": "https://localhost:8080/"
        }
      },
      "outputs": [
        {
          "output_type": "stream",
          "name": "stdout",
          "text": [
            "Score: 87.4%\n",
            "CPU times: user 32.4 ms, sys: 17 ms, total: 49.4 ms\n",
            "Wall time: 1.32 s\n"
          ]
        },
        {
          "output_type": "execute_result",
          "data": {
            "text/plain": [
              "0.874"
            ]
          },
          "metadata": {},
          "execution_count": 153
        }
      ],
      "source": [
        "%%time\n",
        "\n",
        "def test_bare_classification(x_tr,  y_tr, x_tst, y_tst):\n",
        "    linreg = LogisticRegression(tol=.05, max_iter=LBFGS_MAX_ITER, multi_class='multinomial', penalty='l2', solver='lbfgs', n_jobs=3)\n",
        "    linreg.fit(x_tr, y_tr)\n",
        "\n",
        "    score = linreg.predict(x_tst) == y_tst\n",
        "    score = score.mean()\n",
        "    print(f'Score: {100 * score:.1f}%')\n",
        "    return score\n",
        "\n",
        "np.random.seed(seed)\n",
        "# 92.11; 38s\n",
        "test_bare_classification(x_tr, y_tr, x_tst, y_tst)"
      ]
    },
    {
      "cell_type": "code",
      "execution_count": null,
      "metadata": {
        "id": "iAK6eVcUC9-6"
      },
      "outputs": [],
      "source": [
        "%%time\n",
        "\n",
        "np.random.seed(seed)\n",
        "sp = LearnableSpatialPooler(\n",
        "    input_size=train_images[0].size,\n",
        "    output_size=30**2,\n",
        "    permanence_threshold=.5,\n",
        "    output_sparsity=.04,\n",
        "    synapse_permanence_deltas=(.1, .03),\n",
        "    receptive_field_sparsity=.8,\n",
        ")\n",
        "# 89.3; 72 s\n",
        "test_classification_with_sp(x_tr, y_tr, x_tst, y_tst, sp)"
      ]
    },
    {
      "cell_type": "code",
      "execution_count": null,
      "metadata": {
        "id": "pif-kvXMC9-6"
      },
      "outputs": [],
      "source": [
        "%%time\n",
        "\n",
        "np.random.seed(seed)\n",
        "sp = LearnableSpatialPooler(\n",
        "    input_size=train_images[0].size,\n",
        "    output_size=50**2,\n",
        "    permanence_threshold=.5,\n",
        "    output_sparsity=.04,\n",
        "    synapse_permanence_deltas=(.1, .03),\n",
        "    receptive_field_sparsity=.8,\n",
        ")\n",
        "# 93.15; 221 s\n",
        "test_classification_with_sp(x_tr, y_tr, x_tst, y_tst, sp)"
      ]
    },
    {
      "cell_type": "code",
      "execution_count": null,
      "metadata": {
        "id": "4L7QchzQC9_B"
      },
      "outputs": [],
      "source": [
        "%%time\n",
        "\n",
        "np.random.seed(seed)\n",
        "sp = BoostedSpatialPooler(\n",
        "    input_size=train_images[0].size,\n",
        "    output_size=30**2,\n",
        "    permanence_threshold=.5,\n",
        "    output_sparsity=.04,\n",
        "    synapse_permanence_deltas=(.1, .03),\n",
        "    receptive_field_sparsity=.8,\n",
        "    max_boost_factor=2,\n",
        "    boost_sliding_window=1000\n",
        ")\n",
        "# 91.15; 86 s\n",
        "test_classification_with_sp(x_tr, y_tr, x_tst, y_tst, sp)"
      ]
    },
    {
      "cell_type": "code",
      "execution_count": null,
      "metadata": {
        "id": "bvDNSUjtC9_B"
      },
      "outputs": [],
      "source": [
        "%%time\n",
        "\n",
        "np.random.seed(seed)\n",
        "sp = BoostedSpatialPooler(\n",
        "    input_size=train_images[0].size,\n",
        "    output_size=50**2,\n",
        "    permanence_threshold=.5,\n",
        "    output_sparsity=.04,\n",
        "    synapse_permanence_deltas=(.1, .03),\n",
        "    receptive_field_sparsity=.8,\n",
        "    max_boost_factor=2,\n",
        "    boost_sliding_window=1000\n",
        ")\n",
        "# 94.44; 238 s\n",
        "test_classification_with_sp(x_tr, y_tr, x_tst, y_tst, sp)"
      ]
    },
    {
      "cell_type": "markdown",
      "metadata": {
        "id": "Gzl7-qQhC9_B"
      },
      "source": [
        "## Improve SP implementation\n",
        "\n",
        "Теперь, когда у тебя есть готовая реализация SpatialPooler, время для улучшения/ускорения реализации. Попробуй выполнить задания ниже.\n",
        "\n",
        "1. **Векторизация**: нужна векторизованная реализация, которая будет эффективно вычислять overlap score, boosting и все остальное. Важно ответить себе на вопрос, как организовать хранение рецептивных полей нейронов SP, как делать pattern matching для входного паттерна, как эффективно делать шаг обновления. Придется поиграться с разными реализациями, измеряя скорость их работы. Ну и вообще, сейчас самое время причесать свою реализациюи довести ее до финального вида.\n",
        "\n",
        "2. **Разреженные рецептивные поля**: можно ли улучшить качество работы SP, если уменьшить размеры рецептивных полей его нейронов (но возможно увеличив количество нейронов)? Зафиксируй какое-нибудь определенный лимит времени работы SP и попробуй варьировать эти два гиперпараметра (`receptive_field_sparsity` и `output_size`), чтобы оставаться в рамках лимита. Нарисуй график зависимости качества от этих двух параметров.\n",
        "\n",
        "3. [**СЛОЖНО**] **Newborn-stage**: В [On the importance of the newborn stage when learning patterns with the Spatial Pooler](https://link.springer.com/article/10.1007/s42979-022-01066-4) описана идея, что бустинг, вообще говоря, имеет и негативную сторону — он имеет смысл лишь на ранних стадиях формирования рецептивных полей нейронов. Но далее он только влечет к нестабильности (способствует дрифту кодировки на выходе из SP за счет переучивания его нейронов). Предлагается взять эту идею (статью подробно читать для этого не нужно) и добавить newborn stage в SP. Для этого сделай отдельную реализацию, чтобы у тебя была отдельная финальная версия без этой фичи, и отдельная уже с. Newborn stage будет разделен на K этапов, в процессе которых\n",
        "    1. Бустинг будет постепенно снижаться (например, линейно) к нулю\n",
        "    2. Рецептивные поля будут уменьшаться. Таким образом SP будет инициализироваться с большими рецептивными полями, но в процессе newborn stage они будут постепенно пруниться до целевых значений. Это позволит нам во взрослой стадии иметь быстрый (за счет маленьких рецептивных полей) SP с хорошо настроенными рецептивными полями, из-за чего качество будет не сильно хуже, чем если бы мы не прунили.\n",
        "   \n",
        "   Протестируй данную реализацию с разными настройками начального и конечного размера рецептивных полей."
      ]
    },
    {
      "cell_type": "code",
      "execution_count": null,
      "metadata": {
        "id": "VGs4-OhTC9_C"
      },
      "outputs": [],
      "source": []
    }
  ],
  "metadata": {
    "kernelspec": {
      "display_name": "Python 3 (ipykernel)",
      "language": "python",
      "name": "python3"
    },
    "language_info": {
      "codemirror_mode": {
        "name": "ipython",
        "version": 3
      },
      "file_extension": ".py",
      "mimetype": "text/x-python",
      "name": "python",
      "nbconvert_exporter": "python",
      "pygments_lexer": "ipython3",
      "version": "3.9.16"
    },
    "colab": {
      "provenance": []
    }
  },
  "nbformat": 4,
  "nbformat_minor": 0
}